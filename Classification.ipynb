{
 "cells": [
  {
   "cell_type": "raw",
   "metadata": {},
   "source": [
    "Classification is used to separate data points into classes of different label."
   ]
  },
  {
   "cell_type": "markdown",
   "metadata": {},
   "source": [
    "# Imports"
   ]
  },
  {
   "cell_type": "code",
   "execution_count": 1,
   "metadata": {},
   "outputs": [],
   "source": [
    "from __future__ import absolute_import, division, print_function, unicode_literals\n",
    "import numpy as np\n",
    "import pandas as pd\n",
    "import matplotlib.pyplot as plt\n",
    "from IPython.display import clear_output\n",
    "from six.moves import urllib\n",
    "\n",
    "import tensorflow.compat.v2.feature_column as fc\n",
    "import tensorflow as tf"
   ]
  },
  {
   "cell_type": "markdown",
   "metadata": {},
   "source": [
    "# Dataset"
   ]
  },
  {
   "cell_type": "code",
   "execution_count": 2,
   "metadata": {},
   "outputs": [],
   "source": [
    "# Here is the dataset of flowers\n",
    "\n",
    "CSV_COLUMN_NAMES = ['SepalLength', 'SepalWidth', 'PetalLength', 'PetalWidth', 'Species']\n",
    "SPECIES = ['Setosa', 'Versicolor', 'Virginica']"
   ]
  },
  {
   "cell_type": "code",
   "execution_count": 3,
   "metadata": {},
   "outputs": [],
   "source": [
    "train = pd.read_csv('iris_training.csv', names=CSV_COLUMN_NAMES, header=0)\n",
    "test = pd.read_csv('iris_test.csv', names=CSV_COLUMN_NAMES, header=0)"
   ]
  },
  {
   "cell_type": "code",
   "execution_count": 4,
   "metadata": {},
   "outputs": [
    {
     "data": {
      "text/html": [
       "<div>\n",
       "<style scoped>\n",
       "    .dataframe tbody tr th:only-of-type {\n",
       "        vertical-align: middle;\n",
       "    }\n",
       "\n",
       "    .dataframe tbody tr th {\n",
       "        vertical-align: top;\n",
       "    }\n",
       "\n",
       "    .dataframe thead th {\n",
       "        text-align: right;\n",
       "    }\n",
       "</style>\n",
       "<table border=\"1\" class=\"dataframe\">\n",
       "  <thead>\n",
       "    <tr style=\"text-align: right;\">\n",
       "      <th></th>\n",
       "      <th>SepalLength</th>\n",
       "      <th>SepalWidth</th>\n",
       "      <th>PetalLength</th>\n",
       "      <th>PetalWidth</th>\n",
       "      <th>Species</th>\n",
       "    </tr>\n",
       "  </thead>\n",
       "  <tbody>\n",
       "    <tr>\n",
       "      <th>0</th>\n",
       "      <td>6.4</td>\n",
       "      <td>2.8</td>\n",
       "      <td>5.6</td>\n",
       "      <td>2.2</td>\n",
       "      <td>2</td>\n",
       "    </tr>\n",
       "    <tr>\n",
       "      <th>1</th>\n",
       "      <td>5.0</td>\n",
       "      <td>2.3</td>\n",
       "      <td>3.3</td>\n",
       "      <td>1.0</td>\n",
       "      <td>1</td>\n",
       "    </tr>\n",
       "    <tr>\n",
       "      <th>2</th>\n",
       "      <td>4.9</td>\n",
       "      <td>2.5</td>\n",
       "      <td>4.5</td>\n",
       "      <td>1.7</td>\n",
       "      <td>2</td>\n",
       "    </tr>\n",
       "    <tr>\n",
       "      <th>3</th>\n",
       "      <td>4.9</td>\n",
       "      <td>3.1</td>\n",
       "      <td>1.5</td>\n",
       "      <td>0.1</td>\n",
       "      <td>0</td>\n",
       "    </tr>\n",
       "    <tr>\n",
       "      <th>4</th>\n",
       "      <td>5.7</td>\n",
       "      <td>3.8</td>\n",
       "      <td>1.7</td>\n",
       "      <td>0.3</td>\n",
       "      <td>0</td>\n",
       "    </tr>\n",
       "  </tbody>\n",
       "</table>\n",
       "</div>"
      ],
      "text/plain": [
       "   SepalLength  SepalWidth  PetalLength  PetalWidth  Species\n",
       "0          6.4         2.8          5.6         2.2        2\n",
       "1          5.0         2.3          3.3         1.0        1\n",
       "2          4.9         2.5          4.5         1.7        2\n",
       "3          4.9         3.1          1.5         0.1        0\n",
       "4          5.7         3.8          1.7         0.3        0"
      ]
     },
     "execution_count": 4,
     "metadata": {},
     "output_type": "execute_result"
    }
   ],
   "source": [
    "train.head()"
   ]
  },
  {
   "cell_type": "raw",
   "metadata": {},
   "source": [
    "We can pop the species column off and use that as our label."
   ]
  },
  {
   "cell_type": "code",
   "execution_count": 5,
   "metadata": {},
   "outputs": [
    {
     "data": {
      "text/html": [
       "<div>\n",
       "<style scoped>\n",
       "    .dataframe tbody tr th:only-of-type {\n",
       "        vertical-align: middle;\n",
       "    }\n",
       "\n",
       "    .dataframe tbody tr th {\n",
       "        vertical-align: top;\n",
       "    }\n",
       "\n",
       "    .dataframe thead th {\n",
       "        text-align: right;\n",
       "    }\n",
       "</style>\n",
       "<table border=\"1\" class=\"dataframe\">\n",
       "  <thead>\n",
       "    <tr style=\"text-align: right;\">\n",
       "      <th></th>\n",
       "      <th>SepalLength</th>\n",
       "      <th>SepalWidth</th>\n",
       "      <th>PetalLength</th>\n",
       "      <th>PetalWidth</th>\n",
       "    </tr>\n",
       "  </thead>\n",
       "  <tbody>\n",
       "    <tr>\n",
       "      <th>0</th>\n",
       "      <td>6.4</td>\n",
       "      <td>2.8</td>\n",
       "      <td>5.6</td>\n",
       "      <td>2.2</td>\n",
       "    </tr>\n",
       "    <tr>\n",
       "      <th>1</th>\n",
       "      <td>5.0</td>\n",
       "      <td>2.3</td>\n",
       "      <td>3.3</td>\n",
       "      <td>1.0</td>\n",
       "    </tr>\n",
       "    <tr>\n",
       "      <th>2</th>\n",
       "      <td>4.9</td>\n",
       "      <td>2.5</td>\n",
       "      <td>4.5</td>\n",
       "      <td>1.7</td>\n",
       "    </tr>\n",
       "    <tr>\n",
       "      <th>3</th>\n",
       "      <td>4.9</td>\n",
       "      <td>3.1</td>\n",
       "      <td>1.5</td>\n",
       "      <td>0.1</td>\n",
       "    </tr>\n",
       "    <tr>\n",
       "      <th>4</th>\n",
       "      <td>5.7</td>\n",
       "      <td>3.8</td>\n",
       "      <td>1.7</td>\n",
       "      <td>0.3</td>\n",
       "    </tr>\n",
       "  </tbody>\n",
       "</table>\n",
       "</div>"
      ],
      "text/plain": [
       "   SepalLength  SepalWidth  PetalLength  PetalWidth\n",
       "0          6.4         2.8          5.6         2.2\n",
       "1          5.0         2.3          3.3         1.0\n",
       "2          4.9         2.5          4.5         1.7\n",
       "3          4.9         3.1          1.5         0.1\n",
       "4          5.7         3.8          1.7         0.3"
      ]
     },
     "execution_count": 5,
     "metadata": {},
     "output_type": "execute_result"
    }
   ],
   "source": [
    "train_y = train.pop('Species')\n",
    "test_y = test.pop('Species')\n",
    "train.head() # Specis column is gone"
   ]
  },
  {
   "cell_type": "code",
   "execution_count": 6,
   "metadata": {},
   "outputs": [
    {
     "data": {
      "text/plain": [
       "(120, 4)"
      ]
     },
     "execution_count": 6,
     "metadata": {},
     "output_type": "execute_result"
    }
   ],
   "source": [
    "train.shape # 120 entries with 4 features"
   ]
  },
  {
   "cell_type": "markdown",
   "metadata": {},
   "source": [
    "# Input function"
   ]
  },
  {
   "cell_type": "code",
   "execution_count": 7,
   "metadata": {},
   "outputs": [],
   "source": [
    "def input_fn(features, labels, training=True, batch_size=256):\n",
    "    # convert the inputs to a Dataset\n",
    "    dataset = tf.data.Dataset.from_tensor_slices((dict(features), labels))\n",
    "    \n",
    "    if training:\n",
    "        dataset = dataset.shuffle(1000).repeat() # shuffle and repeat if you are in  trainig mode\n",
    "        \n",
    "    return dataset.batch(batch_size)"
   ]
  },
  {
   "cell_type": "markdown",
   "metadata": {},
   "source": [
    "# Feature Columns"
   ]
  },
  {
   "cell_type": "code",
   "execution_count": 8,
   "metadata": {},
   "outputs": [
    {
     "name": "stdout",
     "output_type": "stream",
     "text": [
      "[NumericColumn(key='SepalLength', shape=(1,), default_value=None, dtype=tf.float32, normalizer_fn=None), NumericColumn(key='SepalWidth', shape=(1,), default_value=None, dtype=tf.float32, normalizer_fn=None), NumericColumn(key='PetalLength', shape=(1,), default_value=None, dtype=tf.float32, normalizer_fn=None), NumericColumn(key='PetalWidth', shape=(1,), default_value=None, dtype=tf.float32, normalizer_fn=None)]\n"
     ]
    }
   ],
   "source": [
    "# Feature columns decribe how to use the input\n",
    "\n",
    "my_feature_columns = []\n",
    "for key in train.keys():\n",
    "    my_feature_columns.append(tf.feature_column.numeric_column(key=key))\n",
    "print(my_feature_columns)"
   ]
  },
  {
   "cell_type": "markdown",
   "metadata": {},
   "source": [
    "# Building the Model"
   ]
  },
  {
   "cell_type": "raw",
   "metadata": {},
   "source": [
    "For classification tasks, there are variety of different estimators/models that we can pick from.\n",
    "\n",
    "->DNNClassifier (Deep Neural Network)\n",
    "->LinearClassifier\n",
    "\n",
    "We may not find alinear correspondence in our data so, DNN seems to be the beat choice."
   ]
  },
  {
   "cell_type": "code",
   "execution_count": 9,
   "metadata": {},
   "outputs": [
    {
     "name": "stdout",
     "output_type": "stream",
     "text": [
      "INFO:tensorflow:Using default config.\n",
      "WARNING:tensorflow:Using temporary folder as model directory: C:\\Users\\Amrit\\AppData\\Local\\Temp\\tmpokijhdkp\n",
      "INFO:tensorflow:Using config: {'_model_dir': 'C:\\\\Users\\\\Amrit\\\\AppData\\\\Local\\\\Temp\\\\tmpokijhdkp', '_tf_random_seed': None, '_save_summary_steps': 100, '_save_checkpoints_steps': None, '_save_checkpoints_secs': 600, '_session_config': allow_soft_placement: true\n",
      "graph_options {\n",
      "  rewrite_options {\n",
      "    meta_optimizer_iterations: ONE\n",
      "  }\n",
      "}\n",
      ", '_keep_checkpoint_max': 5, '_keep_checkpoint_every_n_hours': 10000, '_log_step_count_steps': 100, '_train_distribute': None, '_device_fn': None, '_protocol': None, '_eval_distribute': None, '_experimental_distribute': None, '_experimental_max_worker_delay_secs': None, '_session_creation_timeout_secs': 7200, '_checkpoint_save_graph_def': True, '_service': None, '_cluster_spec': ClusterSpec({}), '_task_type': 'worker', '_task_id': 0, '_global_id_in_cluster': 0, '_master': '', '_evaluation_master': '', '_is_chief': True, '_num_ps_replicas': 0, '_num_worker_replicas': 1}\n"
     ]
    }
   ],
   "source": [
    "# A DNN model with 2 hidden layers with 30 and 10 hidden nodes each\n",
    "\n",
    "# estimator module stores a bunch of pre-made models from tensorflow \n",
    "classifier = tf.estimator.DNNClassifier(feature_columns=my_feature_columns,\n",
    "                                       hidden_units=[30,10], # hidden layers of 30 and 10 nodes each\n",
    "                                       n_classes=3) # model chooses between 3 classes"
   ]
  },
  {
   "cell_type": "markdown",
   "metadata": {},
   "source": [
    "# Training"
   ]
  },
  {
   "cell_type": "code",
   "execution_count": 10,
   "metadata": {},
   "outputs": [
    {
     "name": "stdout",
     "output_type": "stream",
     "text": [
      "WARNING:tensorflow:From C:\\Users\\Amrit\\anaconda3\\lib\\site-packages\\tensorflow\\python\\training\\training_util.py:235: Variable.initialized_value (from tensorflow.python.ops.variables) is deprecated and will be removed in a future version.\n",
      "Instructions for updating:\n",
      "Use Variable.read_value. Variables in 2.X are initialized automatically both in eager and graph (inside tf.defun) contexts.\n",
      "INFO:tensorflow:Calling model_fn.\n",
      "WARNING:tensorflow:From C:\\Users\\Amrit\\anaconda3\\lib\\site-packages\\keras\\optimizer_v2\\adagrad.py:83: calling Constant.__init__ (from tensorflow.python.ops.init_ops) with dtype is deprecated and will be removed in a future version.\n",
      "Instructions for updating:\n",
      "Call initializer instance with the dtype argument instead of passing it to the constructor\n",
      "INFO:tensorflow:Done calling model_fn.\n",
      "INFO:tensorflow:Create CheckpointSaverHook.\n",
      "INFO:tensorflow:Graph was finalized.\n",
      "INFO:tensorflow:Running local_init_op.\n",
      "INFO:tensorflow:Done running local_init_op.\n",
      "INFO:tensorflow:Calling checkpoint listeners before saving checkpoint 0...\n",
      "INFO:tensorflow:Saving checkpoints for 0 into C:\\Users\\Amrit\\AppData\\Local\\Temp\\tmpokijhdkp\\model.ckpt.\n",
      "INFO:tensorflow:Calling checkpoint listeners after saving checkpoint 0...\n",
      "INFO:tensorflow:loss = 1.4270656, step = 0\n",
      "INFO:tensorflow:global_step/sec: 608.419\n",
      "INFO:tensorflow:loss = 1.019496, step = 100 (0.165 sec)\n",
      "INFO:tensorflow:global_step/sec: 709.449\n",
      "INFO:tensorflow:loss = 0.95331585, step = 200 (0.141 sec)\n",
      "INFO:tensorflow:global_step/sec: 730.915\n",
      "INFO:tensorflow:loss = 0.90967685, step = 300 (0.137 sec)\n",
      "INFO:tensorflow:global_step/sec: 739.234\n",
      "INFO:tensorflow:loss = 0.87874424, step = 400 (0.135 sec)\n",
      "INFO:tensorflow:global_step/sec: 733.954\n",
      "INFO:tensorflow:loss = 0.85592663, step = 500 (0.136 sec)\n",
      "INFO:tensorflow:global_step/sec: 742.653\n",
      "INFO:tensorflow:loss = 0.8245872, step = 600 (0.135 sec)\n",
      "INFO:tensorflow:global_step/sec: 705.945\n",
      "INFO:tensorflow:loss = 0.7983614, step = 700 (0.142 sec)\n",
      "INFO:tensorflow:global_step/sec: 727.057\n",
      "INFO:tensorflow:loss = 0.7888227, step = 800 (0.137 sec)\n",
      "INFO:tensorflow:global_step/sec: 736.994\n",
      "INFO:tensorflow:loss = 0.7596539, step = 900 (0.136 sec)\n",
      "INFO:tensorflow:global_step/sec: 708.619\n",
      "INFO:tensorflow:loss = 0.7433592, step = 1000 (0.141 sec)\n",
      "INFO:tensorflow:global_step/sec: 692.322\n",
      "INFO:tensorflow:loss = 0.729126, step = 1100 (0.144 sec)\n",
      "INFO:tensorflow:global_step/sec: 727.193\n",
      "INFO:tensorflow:loss = 0.71246755, step = 1200 (0.137 sec)\n",
      "INFO:tensorflow:global_step/sec: 758.514\n",
      "INFO:tensorflow:loss = 0.6910542, step = 1300 (0.133 sec)\n",
      "INFO:tensorflow:global_step/sec: 722.366\n",
      "INFO:tensorflow:loss = 0.67689633, step = 1400 (0.138 sec)\n",
      "INFO:tensorflow:global_step/sec: 700.22\n",
      "INFO:tensorflow:loss = 0.67500854, step = 1500 (0.143 sec)\n",
      "INFO:tensorflow:global_step/sec: 709.701\n",
      "INFO:tensorflow:loss = 0.6607498, step = 1600 (0.141 sec)\n",
      "INFO:tensorflow:global_step/sec: 742.015\n",
      "INFO:tensorflow:loss = 0.6509279, step = 1700 (0.136 sec)\n",
      "INFO:tensorflow:global_step/sec: 739.062\n",
      "INFO:tensorflow:loss = 0.63830113, step = 1800 (0.135 sec)\n",
      "INFO:tensorflow:global_step/sec: 707.194\n",
      "INFO:tensorflow:loss = 0.62106323, step = 1900 (0.140 sec)\n",
      "INFO:tensorflow:global_step/sec: 618.824\n",
      "INFO:tensorflow:loss = 0.60194266, step = 2000 (0.162 sec)\n",
      "INFO:tensorflow:global_step/sec: 740.891\n",
      "INFO:tensorflow:loss = 0.60558915, step = 2100 (0.135 sec)\n",
      "INFO:tensorflow:global_step/sec: 680.876\n",
      "INFO:tensorflow:loss = 0.57980984, step = 2200 (0.147 sec)\n",
      "INFO:tensorflow:global_step/sec: 744.846\n",
      "INFO:tensorflow:loss = 0.5706557, step = 2300 (0.135 sec)\n",
      "INFO:tensorflow:global_step/sec: 727.568\n",
      "INFO:tensorflow:loss = 0.583961, step = 2400 (0.136 sec)\n",
      "INFO:tensorflow:global_step/sec: 684.929\n",
      "INFO:tensorflow:loss = 0.56242245, step = 2500 (0.146 sec)\n",
      "INFO:tensorflow:global_step/sec: 732.951\n",
      "INFO:tensorflow:loss = 0.5652734, step = 2600 (0.136 sec)\n",
      "INFO:tensorflow:global_step/sec: 728.85\n",
      "INFO:tensorflow:loss = 0.5601243, step = 2700 (0.137 sec)\n",
      "INFO:tensorflow:global_step/sec: 715.488\n",
      "INFO:tensorflow:loss = 0.5557328, step = 2800 (0.140 sec)\n",
      "INFO:tensorflow:global_step/sec: 742.305\n",
      "INFO:tensorflow:loss = 0.543517, step = 2900 (0.135 sec)\n",
      "INFO:tensorflow:global_step/sec: 740.668\n",
      "INFO:tensorflow:loss = 0.5312833, step = 3000 (0.135 sec)\n",
      "INFO:tensorflow:global_step/sec: 746.25\n",
      "INFO:tensorflow:loss = 0.54097486, step = 3100 (0.134 sec)\n",
      "INFO:tensorflow:global_step/sec: 743.465\n",
      "INFO:tensorflow:loss = 0.5240916, step = 3200 (0.135 sec)\n",
      "INFO:tensorflow:global_step/sec: 732.932\n",
      "INFO:tensorflow:loss = 0.52019596, step = 3300 (0.136 sec)\n",
      "INFO:tensorflow:global_step/sec: 687.521\n",
      "INFO:tensorflow:loss = 0.5180691, step = 3400 (0.145 sec)\n",
      "INFO:tensorflow:global_step/sec: 734.185\n",
      "INFO:tensorflow:loss = 0.50804067, step = 3500 (0.136 sec)\n",
      "INFO:tensorflow:global_step/sec: 741.971\n",
      "INFO:tensorflow:loss = 0.49307695, step = 3600 (0.134 sec)\n",
      "INFO:tensorflow:global_step/sec: 754.635\n",
      "INFO:tensorflow:loss = 0.49286202, step = 3700 (0.133 sec)\n",
      "INFO:tensorflow:global_step/sec: 736.36\n",
      "INFO:tensorflow:loss = 0.49307126, step = 3800 (0.137 sec)\n",
      "INFO:tensorflow:global_step/sec: 735.866\n",
      "INFO:tensorflow:loss = 0.48257357, step = 3900 (0.135 sec)\n",
      "INFO:tensorflow:global_step/sec: 741.643\n",
      "INFO:tensorflow:loss = 0.4880111, step = 4000 (0.135 sec)\n",
      "INFO:tensorflow:global_step/sec: 732.996\n",
      "INFO:tensorflow:loss = 0.48756748, step = 4100 (0.136 sec)\n",
      "INFO:tensorflow:global_step/sec: 747.28\n",
      "INFO:tensorflow:loss = 0.47102404, step = 4200 (0.135 sec)\n",
      "INFO:tensorflow:global_step/sec: 726.06\n",
      "INFO:tensorflow:loss = 0.474728, step = 4300 (0.137 sec)\n",
      "INFO:tensorflow:global_step/sec: 741.443\n",
      "INFO:tensorflow:loss = 0.4578787, step = 4400 (0.136 sec)\n",
      "INFO:tensorflow:global_step/sec: 735.885\n",
      "INFO:tensorflow:loss = 0.4653464, step = 4500 (0.136 sec)\n",
      "INFO:tensorflow:global_step/sec: 727.062\n",
      "INFO:tensorflow:loss = 0.46541452, step = 4600 (0.138 sec)\n",
      "INFO:tensorflow:global_step/sec: 744.752\n",
      "INFO:tensorflow:loss = 0.4673966, step = 4700 (0.133 sec)\n",
      "INFO:tensorflow:global_step/sec: 762.324\n",
      "INFO:tensorflow:loss = 0.45325416, step = 4800 (0.131 sec)\n",
      "INFO:tensorflow:global_step/sec: 737.048\n",
      "INFO:tensorflow:loss = 0.45223385, step = 4900 (0.137 sec)\n",
      "INFO:tensorflow:Calling checkpoint listeners before saving checkpoint 5000...\n",
      "INFO:tensorflow:Saving checkpoints for 5000 into C:\\Users\\Amrit\\AppData\\Local\\Temp\\tmpokijhdkp\\model.ckpt.\n",
      "INFO:tensorflow:Calling checkpoint listeners after saving checkpoint 5000...\n",
      "INFO:tensorflow:Loss for final step: 0.43645436.\n"
     ]
    },
    {
     "data": {
      "text/plain": [
       "<tensorflow_estimator.python.estimator.canned.dnn.DNNClassifierV2 at 0x1fd04a557f0>"
      ]
     },
     "execution_count": 10,
     "metadata": {},
     "output_type": "execute_result"
    }
   ],
   "source": [
    "classifier.train(\n",
    "                input_fn = lambda: input_fn(train, train_y, training=True),\n",
    "                steps=5000)\n",
    "# we include a lambda to avoid creating an inner function previously"
   ]
  },
  {
   "cell_type": "markdown",
   "metadata": {},
   "source": [
    "# Evaluation"
   ]
  },
  {
   "cell_type": "code",
   "execution_count": 11,
   "metadata": {},
   "outputs": [
    {
     "name": "stdout",
     "output_type": "stream",
     "text": [
      "INFO:tensorflow:Calling model_fn.\n",
      "INFO:tensorflow:Done calling model_fn.\n",
      "INFO:tensorflow:Starting evaluation at 2021-08-20T13:38:16\n",
      "INFO:tensorflow:Graph was finalized.\n",
      "INFO:tensorflow:Restoring parameters from C:\\Users\\Amrit\\AppData\\Local\\Temp\\tmpokijhdkp\\model.ckpt-5000\n",
      "INFO:tensorflow:Running local_init_op.\n",
      "INFO:tensorflow:Done running local_init_op.\n",
      "INFO:tensorflow:Inference Time : 0.18688s\n",
      "INFO:tensorflow:Finished evaluation at 2021-08-20-13:38:16\n",
      "INFO:tensorflow:Saving dict for global step 5000: accuracy = 0.8, average_loss = 0.5294415, global_step = 5000, loss = 0.5294415\n",
      "INFO:tensorflow:Saving 'checkpoint_path' summary for global step 5000: C:\\Users\\Amrit\\AppData\\Local\\Temp\\tmpokijhdkp\\model.ckpt-5000\n",
      "\n",
      "Test set accuracy:0.800\n",
      "\n"
     ]
    }
   ],
   "source": [
    "eval_result=classifier.evaluate(input_fn = lambda: input_fn(test, test_y, training=False))\n",
    "\n",
    "print('\\nTest set accuracy:{accuracy:0.3f}\\n'.format(**eval_result))\n"
   ]
  },
  {
   "cell_type": "markdown",
   "metadata": {},
   "source": [
    "# Prediction "
   ]
  },
  {
   "cell_type": "code",
   "execution_count": 13,
   "metadata": {},
   "outputs": [
    {
     "name": "stdout",
     "output_type": "stream",
     "text": [
      "Please type numeric values as prompted.\n",
      "SepalLength:2.4\n",
      "SepalWidth:2.6\n",
      "PetalLength:6.5\n",
      "PetalWidth:6.3\n",
      "INFO:tensorflow:Calling model_fn.\n",
      "INFO:tensorflow:Done calling model_fn.\n",
      "INFO:tensorflow:Graph was finalized.\n",
      "INFO:tensorflow:Restoring parameters from C:\\Users\\Amrit\\AppData\\Local\\Temp\\tmpokijhdkp\\model.ckpt-5000\n",
      "INFO:tensorflow:Running local_init_op.\n",
      "INFO:tensorflow:Done running local_init_op.\n",
      "Prediction is \"Virginica\" (78.3%)\n"
     ]
    }
   ],
   "source": [
    "def input_fn(features, batch_size=256):\n",
    "    # convert inputs to a dataset withoput labels\n",
    "    return tf.data.Dataset.from_tensor_slices(dict(features)).batch(batch_size)\n",
    "features = ['SepalLength', 'SepalWidth', 'PetalLength', 'PetalWidth']\n",
    "predict ={}\n",
    "\n",
    "print('Please type numeric values as prompted.')\n",
    "for feature in features:\n",
    "    valid = True\n",
    "    while valid:\n",
    "        val = input(feature + \":\")\n",
    "        if not val.isdigit(): valid = False\n",
    "            \n",
    "    predict[feature] = [float(val)]\n",
    "    \n",
    "predictions = classifier.predict(input_fn= lambda: input_fn(predict))\n",
    "for pred_dict in predictions:\n",
    "    class_id = pred_dict['class_ids'][0]\n",
    "    probability = pred_dict['probabilities'][class_id]\n",
    "    \n",
    "    print('Prediction is \"{}\" ({:.1f}%)'.format(\n",
    "    SPECIES[class_id], 100*probability))"
   ]
  },
  {
   "cell_type": "code",
   "execution_count": null,
   "metadata": {},
   "outputs": [],
   "source": []
  }
 ],
 "metadata": {
  "kernelspec": {
   "display_name": "Python 3",
   "language": "python",
   "name": "python3"
  },
  "language_info": {
   "codemirror_mode": {
    "name": "ipython",
    "version": 3
   },
   "file_extension": ".py",
   "mimetype": "text/x-python",
   "name": "python",
   "nbconvert_exporter": "python",
   "pygments_lexer": "ipython3",
   "version": "3.8.3"
  }
 },
 "nbformat": 4,
 "nbformat_minor": 4
}
